{
 "nbformat": 4,
 "nbformat_minor": 2,
 "metadata": {
  "language_info": {
   "name": "python",
   "codemirror_mode": {
    "name": "ipython",
    "version": 3
   }
  },
  "orig_nbformat": 2,
  "file_extension": ".py",
  "mimetype": "text/x-python",
  "name": "python",
  "npconvert_exporter": "python",
  "pygments_lexer": "ipython3",
  "version": 3
 },
 "cells": [
  {
   "cell_type": "markdown",
   "metadata": {},
   "source": [
    "# How Google Does Machine Learning"
   ]
  },
  {
   "cell_type": "markdown",
   "metadata": {},
   "source": [
    "## Introduction\n",
    "\n",
    "- Recommendation systems are how you build personalized algorithms.\n",
    "\n",
    "- Operationalizing a Machine Learning model\n",
    "\n",
    "    1. Training it at scale in a distributed way, \n",
    "\n",
    "    2. Serving out the predictions,\n",
    "    \n",
    "    3. Building a Machine Learning model end to end. \n",
    "    \n",
    "- Operationalizing a Machine Learning model can be super hard\n",
    "\n",
    "- Reducing the chance of failure of ML in production\n",
    "\n",
    "    Make sure batch data and streaming data are processed the same way. If we do this then the training data (batch data) and the streaming data are more likely to be compatible, which improves the chances of a successful serving of the mode"
   ]
  },
  {
   "cell_type": "markdown",
   "metadata": {},
   "source": [
    "## Two Stage of Machine Learning\n",
    "\n",
    "- It is important to realize that machine learning has two stages, training and inference\n",
    "\n",
    "- Look at many books on machine learning, blog posts, university courses, they tend to ignore the second stage of ML. But in the real world, what is the use of training a machine learning model if you cannot use it?\n",
    "\n",
    "- Simple Procedure:\n",
    "\n",
    "    1. The first stage of ML is to train an ML model with examples\n",
    "\n",
    "    2. Then when we train a model, what we're doing is that we're making tiny adjustments to the model. So that the output of the model, the output of the mathematical function, is as close as possible to the true answer for any given input.\n",
    "\n",
    "    3. Eventhough the input data is different, it still works because the machine learning model has generalized from the specific examples of input data/images."
   ]
  },
  {
   "cell_type": "markdown",
   "metadata": {},
   "source": [
    "## Machine Learning in Google Products\n",
    "\n",
    "- The entire machine learning model consists of a function, of a function, of a function.\n",
    "\n",
    "- You may have to break this problem down into smaller problems based on your knowledge of the business.\n",
    "\n",
    "- There is not one ML model. There are dozens of ML models per product"
   ]
  },
  {
   "cell_type": "markdown",
   "metadata": {},
   "source": [
    "## Replacing Heuristic Code\n",
    "\n",
    "- Any Rule that you write on your code can be replace with machine learning\n",
    "\n",
    "- So, You don't think about coding up rules, you think about training models based on data"
   ]
  },
  {
   "cell_type": "markdown",
   "metadata": {},
   "source": [
    "## Discussion Prompt: F    raming an ML problem\n",
    "\n",
    "Us    e Case 1: Power Usage\n",
    "If the use case w    as an ML problem....\n",
    "\n",
    "1) What        being predicted?\n",
    "\n",
    "    - Pow    er Usage in one Area\n",
    "\n",
    "2)          data is need        \n",
    "    - Population\n",
    "    - H    ousehold power usage\n",
    "\n",
    "Now imagine the ML problem is a q    uestion of software:\n",
    "\n",
    "3) What is the API for the proble        ring prediction?\n",
    "\n",
    "    - predictPo    werUsage(population)\n",
    "\n",
    "4) Who will use this service? How are          doing it today?\n",
    "\n",
    "    - Goverment, Power Plant A    nalyst, Grid Analyst\n",
    "\n",
    "Lastly, cast it in the framework of a data problem. What are some key actions to collect, analyze, predict, and react to the data/predictions (different input features might requir    e different actions)\n",
    "\n",
    "5) What da        re we analyzing?\n",
    "\n",
    "    - the correlation between population, household power usage and pow    er usage in one area\n",
    "\n",
    "6) What dat        e we predicting?\n",
    "\n",
    "    - Power usage bas    ed on the population\n",
    "\n",
    "7) What data         we reacting to?\n",
    "\n",
    "    - Power usage change"
   ]
  },
  {
   "cell_type": "markdown",
   "metadata": {},
   "source": [
    "## Data Strategy\n",
    "\n",
    "- Machine learning is a rocket engine, data is the fuel.\n",
    "\n",
    "- Spend your energy collecting more data. not just more quantity, also more variety\n",
    "\n",
    "- ML strategy is first and foremost a data strategy"
   ]
  },
  {
   "cell_type": "markdown",
   "metadata": {},
   "source": [
    "## Why Machine Learning Fail? Training and Serving Skew\n",
    "\n",
    "- One common reason that Machine Learning products fail is because of something called training-serving skew\n",
    "\n",
    "### How to reduce this fail?\n",
    "\n",
    "- Take the same code that was used to process historical data during training and reuse it during predictions"
   ]
  },
  {
   "cell_type": "markdown",
   "metadata": {},
   "source": [
    "## ML Strategy\n",
    "\n",
    "- 90 percent of enterprise data is unstructured\n",
    "\n",
    "- Fail fast and iterate = get more ideas and closer to success\n",
    "\n",
    "- Use Pre-trained ML model to dealt with unstructured data and use it result as your custom ML model input"
   ]
  },
  {
   "cell_type": "markdown",
   "metadata": {},
   "source": [
    "## Discussion Prompt:\n",
    "\n",
    "- Think back to an existing application at your company. \n",
    "\n",
    "- Brainstorm on how you could replace parts of it by ML (think beyond user interface elements)\n",
    "\n",
    "        Use Case: Currency Rate Issue in Jurnal\n",
    "\n",
    "        What are some of the benefits to doing so?\n",
    "\n",
    "            - Minimize or the currency rate issue\n",
    "\n",
    "        What kinds of data would you collect if you wanted to do this?\n",
    "\n",
    "            - Company use MC, Transaction with MC created_at, MC created_at\n",
    "\n",
    "        Are you collecting that data today?\n",
    "            \n",
    "            - Yes\n",
    "\n",
    "        If no, why not?"
   ]
  },
  {
   "cell_type": "markdown",
   "metadata": {},
   "source": [
    "## ML Surprise\n",
    "\n",
    "- Optimize the ML algorithm takes a much smaller segment of effort than people expect\n",
    "\n",
    "- Infrastructure building is important to make sure that we can train our model many time"
   ]
  },
  {
   "cell_type": "markdown",
   "metadata": {},
   "source": [
    "## Path of ML\n",
    "\n",
    "1. Individual Contributer, performed by a single person,\n",
    "\n",
    "2. Start Delegate, multiple people are all performing the same task in parallel\n",
    "\n",
    "3. Digitization, automate using computer\n",
    "\n",
    "4. Big Data, we're going to use a lot of data to build operational and user insights\n",
    "\n",
    "5. ML, using Big Data. We're going to automatically start to improve these computer processes"
   ]
  },
  {
   "cell_type": "markdown",
   "metadata": {},
   "source": [
    "## Machine Learning and Human Bias  \n",
    "\n",
    "- Latent bias-- for example, if you were training a computer on what a physicist looks like, and you're using pictures of past physicists, your algorithm will end up with a latent bias skewing towards men\n",
    "\n",
    "- Selection bias-- say you're training a model to recognize faces. Whether you grab images from the internet or your own photo library, are you making sure to select photos that represent everyone?\n",
    "\n",
    "- Technology should work for everyone"
   ]
  },
  {
   "cell_type": "markdown",
   "metadata": {},
   "source": [
    "## Evaluating Metrics for Inclusion\n",
    "\n",
    "![confusion_matrix](https://2.bp.blogspot.com/-EvSXDotTOwc/XMfeOGZ-CVI/AAAAAAAAEiE/oePFfvhfOQM11dgRn9FkPxlegCXbgOF4QCLcBGAs/s1600/confusionMatrxiUpdated.jpg)\n",
    "\n",
    "- a common way that we evaluate performance in machine learning is by using a confusion matrix\n",
    "\n",
    "- instead of just looking at how your model performs overall over your entire dataset, we'll focus instead on breaking the performance down to the subgroup that you wish to improve performance on"
   ]
  },
  {
   "cell_type": "markdown",
   "metadata": {},
   "source": [
    "## Evaluating Metrics for Inclusion\n",
    "\n",
    "    ![confusion_matrix](https://2.bp.blogspot.com/-EvSXDotTOwc/XMfeOGZ-CVI/AAAAAAAAEiE/oePFfvhfOQM11dgRn9FkPxlegCXbgOF4QCLcBGAs/s1600/confusionMatrxiUpdated.jpg)\n",
    "\n",
    "- A common way that we evaluate performance in machine learning is by using a confusion matrix\n",
    "\n",
    "- instead of just looking at how your model performs overall over your entire dataset, we'll focus instead on breaking the performance down to the subgroup that you wish to improve performance on"
   ]
  },
  {
   "cell_type": "markdown",
   "metadata": {},
   "source": [
    "## Statistical Measurements and acceptable tradeoffs\n",
    "\n",
    "- False positive rate (α) = type I error = 1 − specificity = FP / (FP + TN) = 180 / (180 + 1820) = 9%\n",
    "- False negative rate (β) = type II error = 1 − sensitivity = FN / (TP + FN) = 10 / (20 + 10) = 33%\n",
    "- True positive rate (TPR), Recall, Sensitivity, probability of detection = Σ True positive/Σ Condition positive\n",
    "- Accuracy (ACC) = Σ True positive + Σ True negative/Σ Total population\n",
    "- Precision = Σ True positive/Σ Predicted condition positive"
   ]
  },
  {
   "cell_type": "markdown",
   "metadata": {},
   "source": [
    "## Discussion Prompt: Non-traditional ML use case\n",
    "\n",
    "- Think back to an existing application at your company.\n",
    "\n",
    "- Brainstorm on how you could replace parts of it by ML (think beyond user interface elements)\n",
    "\n",
    "        User Case : Currency Rate Problem in Jurnal\n",
    "\n",
    "        What are some of the benefits to doing so?\n",
    "\n",
    "            - Can track the user behaviour if they want create MC transaction before currency rate updated\n",
    "\n",
    "        What kinds of data would you collect if you wanted to do this?\n",
    "\n",
    "            - MC usage, Transaction with MC created_at, MC created_at\n",
    "\n",
    "        Are you collecting that data today?\n",
    "\n",
    "            - Yes\n",
    "\n",
    "        If no, why not?"
   ]
  },
  {
   "cell_type": "markdown",
   "metadata": {},
   "source": [
    "## Pre-trained ML in Google"
   ]
  },
  {
   "cell_type": "markdown",
   "metadata": {},
   "source": [
    "### Vision API\n",
    "\n",
    "- Label & Web Detection, search similar image on the web\n",
    "- OCR, extract text from image and tell what is it\n",
    "- Landmark, tell what/where is the landmark\n",
    "- Crop Hint, cropping automation"
   ]
  },
  {
   "cell_type": "markdown",
   "metadata": {},
   "source": [
    "### Video Intelligence API\n",
    "\n",
    "- Label detection\n",
    "- Video annotation\n",
    "- Shot change detection\n",
    "- Explicit content detection\n",
    "- Regionalization"
   ]
  },
  {
   "cell_type": "markdown",
   "metadata": {},
   "source": [
    "### Cloud API\n",
    "\n",
    "- Speech Timestamps\n",
    "- Profanity filtering\n",
    "- Batch & Streaming Transcription\n",
    "- Translate Text"
   ]
  },
  {
   "cell_type": "markdown",
   "metadata": {},
   "source": [
    "### Natural Language API\n",
    "\n",
    "- Classify content of text (categorization)\n",
    "- Sentence label and dependency\n",
    "- Use for sentiment review by analysisng text based feedback"
   ]
  }
 ]
}